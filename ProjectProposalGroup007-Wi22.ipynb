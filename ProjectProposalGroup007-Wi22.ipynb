{
 "cells": [
  {
   "cell_type": "markdown",
   "metadata": {},
   "source": [
    "# COGS 108 - Final Project Proposal"
   ]
  },
  {
   "cell_type": "markdown",
   "metadata": {},
   "source": [
    "# Names\n",
    "\n",
    "- Dominic Chua\n",
    "- Brandon Chen\n",
    "- Anna Morozova\n",
    "- Taha Alam\n",
    "- Yvonne Liu"
   ]
  },
  {
   "cell_type": "markdown",
   "metadata": {},
   "source": [
    "# Research Question"
   ]
  },
  {
   "cell_type": "markdown",
   "metadata": {},
   "source": [
    "In the past 10 years is there a correlation to how recent precipitation modulates the risk for car accidents in locations with historically dry climates?"
   ]
  },
  {
   "cell_type": "markdown",
   "metadata": {},
   "source": [
    "## Background and Prior Work"
   ]
  },
  {
   "cell_type": "markdown",
   "metadata": {},
   "source": [
    "From the U.S. Department of Transportation, weather variables such as precipitation, fog, and wind speed affect the performance of roadways and drivers. Numerous weather-related accidents have been documented over the last decade.<sup>1</sup>\n",
    "\n",
    "Additionally, deadliness of weather-related accidents has been of rising concern in the past couple of years, partially do to increasing changes in climate. The Weather Channel claims that weather-related accidents are far more deadly than any natural disaster.<sup>2</sup>\n",
    "\n",
    "From this, we'd like to study the impact precipation has on car transportation and determine if this is the primary cause of these accidents, or from some other confounding variable.\n",
    "\n",
    "References (include links):\n",
    "  1) [How Do Weather Events Impact Roads?](https://ops.fhwa.dot.gov/weather/q1_roadimpact.htm)\n",
    "  2) [Weather-Related Vehicle Accidents Far More Deadly Than Tornadoes, Hurricanes, Floods](https://weather.com/safety/winter/news/weather-fatalities-car-crashes-accidents-united-states)"
   ]
  },
  {
   "cell_type": "markdown",
   "metadata": {},
   "source": [
    "# Hypothesis\n"
   ]
  },
  {
   "cell_type": "markdown",
   "metadata": {},
   "source": [
    "We hypothesize that there is a correlation between rain in seldomly raining in areas and car related accidents.\n"
   ]
  },
  {
   "cell_type": "markdown",
   "metadata": {},
   "source": [
    "# Data"
   ]
  },
  {
   "cell_type": "markdown",
   "metadata": {},
   "source": [
    "The variables we'd like to collect data are car accidents per region including climate, time of day, car type, age of driver, urban vs suburban, drivetrain type."
   ]
  },
  {
   "cell_type": "markdown",
   "metadata": {},
   "source": [
    "# Ethics & Privacy"
   ]
  },
  {
   "cell_type": "markdown",
   "metadata": {},
   "source": [
    "To protect privacy of people we will collect data on, we shall emove any personally identifiable information including race, name, economic status, as they do not pertain to our research question. "
   ]
  },
  {
   "cell_type": "markdown",
   "metadata": {},
   "source": [
    "# Team Expectations "
   ]
  },
  {
   "cell_type": "markdown",
   "metadata": {},
   "source": [
    "* *Show up during meeting times(when possible)*\n",
    "* *Communicating in a timely manner*\n",
    "* *Active contribution*\n",
    "* *Clear visualizations*"
   ]
  },
  {
   "cell_type": "markdown",
   "metadata": {},
   "source": [
    "# Project Timeline Proposal"
   ]
  },
  {
   "cell_type": "markdown",
   "metadata": {},
   "source": [
    "| Meeting Date  | Meeting Time| Completed Before Meeting  | Discuss at Meeting |\n",
    "|---|---|---|---|\n",
    "| 1/20  |  1 PM | Read & Think about COGS 108 expectations; brainstorm topics/questions  | Determine best form of communication; Discuss and decide on final project topic; discuss hypothesis; begin background research | \n",
    "| 1/26  |  10 AM |  Do background research on topic | Discuss ideal dataset(s) and ethics; draft project proposal | \n",
    "| 2/1  | 10 AM  | Edit, finalize, and submit proposal; Search for datasets  | Discuss Wrangling and possible analytical approaches; Assign group members to lead each specific part   |\n",
    "| 2/14  | 6 PM  | Import & Wrangle Data (Ant Man); EDA (Hulk) | Review/Edit wrangling/EDA; Discuss Analysis Plan   |\n",
    "| 2/23  | 12 PM  | Finalize wrangling/EDA; Begin Analysis (Iron Man; Thor) | Discuss/edit Analysis; Complete project check-in |\n",
    "| 3/13  | 12 PM  | Complete analysis; Draft results/conclusion/discussion (Wasp)| Discuss/edit full project |\n",
    "| 3/19  | Before 11:59 PM  | NA | Turn in Final Project & Group Project Surveys |"
   ]
  }
 ],
 "metadata": {
  "kernelspec": {
   "display_name": "Python 3",
   "language": "python",
   "name": "python3"
  },
  "language_info": {
   "codemirror_mode": {
    "name": "ipython",
    "version": 3
   },
   "file_extension": ".py",
   "mimetype": "text/x-python",
   "name": "python",
   "nbconvert_exporter": "python",
   "pygments_lexer": "ipython3",
   "version": "3.7.9"
  }
 },
 "nbformat": 4,
 "nbformat_minor": 2
}
