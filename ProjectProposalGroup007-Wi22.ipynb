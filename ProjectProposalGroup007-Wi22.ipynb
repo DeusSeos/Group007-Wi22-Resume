{
 "cells": [
  {
   "cell_type": "markdown",
   "metadata": {},
   "source": [
    "# COGS 108 - Final Project Proposal"
   ]
  },
  {
   "cell_type": "markdown",
   "metadata": {},
   "source": [
    "# Names\n",
    "\n",
    "- Dominic Chua\n",
    "- Brandon Chen\n",
    "- Anna Morozova\n",
    "- Taha Alam\n",
    "- Yvonne Liu"
   ]
  },
  {
   "cell_type": "markdown",
   "metadata": {},
   "source": [
    "# Research Question"
   ]
  },
  {
   "cell_type": "markdown",
   "metadata": {},
   "source": [
    "In the past 10 years is there a correlation to how recent precipitation (3 days prior) modulates the risk for car accidents in the state of California (comparing North and South California)?"
   ]
  },
  {
   "cell_type": "markdown",
   "metadata": {},
   "source": [
    "## Background and Prior Work"
   ]
  },
  {
   "cell_type": "markdown",
   "metadata": {},
   "source": [
    "From the U.S. Department of Transportation, weather variables such as precipitation, fog, and wind speed affect the performance of roadways and drivers. Numerous weather-related accidents have been documented over the last decade.<sup>1</sup> The data collected shows that 21% of these crashes are due to weather conditions. \n",
    "\n",
    "Additionally, deadliness of weather-related accidents has been of rising concern in the past couple of years, partially do to increasing changes in climate. The Weather Channel claims that weather-related accidents are far more deadly than any natural disaster.<sup>2</sup>\n",
    "\n",
    "Prior research has been done for the entirety of the United States, showing that there is a 34% increase in risk of a fatal car accident during active precipitation<sup>3</sup>\n",
    "\n",
    "From this, we'd like to study the impact recent precipation has on car transportation and determine if this is the primary cause of these accidents specifically for California, or from some other confounding variable.\n",
    "\n",
    "References (include links):\n",
    "  1) [How Do Weather Events Impact Roads?](https://ops.fhwa.dot.gov/weather/q1_roadimpact.htm)\n",
    "  2) [Weather-Related Vehicle Accidents Far More Deadly Than Tornadoes, Hurricanes, Floods](https://weather.com/safety/winter/news/weather-fatalities-car-crashes-accidents-united-states)\n",
    "  3) [Precipitation and Fatal Motor Vehicle Crashes: Continental Analysis with High-Resolution Radar Data](https://journals.ametsoc.org/view/journals/bams/100/8/bams-d-18-0001.1.xml)"
   ]
  },
  {
   "cell_type": "markdown",
   "metadata": {},
   "source": [
    "# Hypothesis\n"
   ]
  },
  {
   "cell_type": "markdown",
   "metadata": {},
   "source": [
    "We hypothesize that there is a positive correlation between rain in seldomly raining in areas and car related accidents in California. We chose this because California has had a dryer climate due to drought and we wanted to see if there would be an increase in car accidents due to people being unused to driving in a wet environment.\n"
   ]
  },
  {
   "cell_type": "markdown",
   "metadata": {},
   "source": [
    "# Data"
   ]
  },
  {
   "cell_type": "markdown",
   "metadata": {},
   "source": [
    "The variables we'd like to collect data are car accidents per region including climate, time of day, car type, age of driver, urban vs suburban, drivetrain type.\n",
    "\n",
    "\n",
    "1) [Climate Data Online: Dataset Discovery](https://www.ncdc.noaa.gov/cdo-web/datasets#GHCND)\n",
    "\n",
    "- The National Oceanic and Atmospheric Administration (NOAA) is a United States organization that maintains historical and real time weather data that is publicly available. We intend to collect 10 years worth of precipitaion data from 2011 through 2021 for six different cities, three in the northern half of California and three in the southern half of California. \n",
    "    \n",
    "\n",
    "2) [Statewide Integrated Traffic Records System](https://iswitrs.chp.ca.gov/Reports/jsp/CollisionReports.jsp)\n",
    "\n",
    "- The Statewide Integrated Traffic Records System (SWITRS) is a database that collects and processes data gathered from a collision scene. The Internet SWITRS application is a tool that leverages this database to allow California Highway Patrol (CHP) staff, members of its Allied Agencies, as well as researchers and members of the public to request various types of statistical reports in an electronic format. The application allows for the creation of custom reports requested by the user based on different categories including, but not limited to locations, dates, and collision types. \n",
    "\n",
    "\n"
   ]
  },
  {
   "cell_type": "markdown",
   "metadata": {},
   "source": [
    "# Ethics & Privacy"
   ]
  },
  {
   "cell_type": "markdown",
   "metadata": {},
   "source": [
    "To protect privacy of people we will collect data on, we shall emove any personally identifiable information including race, name, economic status, as they do not pertain to our research question.\n",
    "\n",
    "Going into this project, we will be collecting data sets based on people that may contain personal information. We anticipate any personal information will be nulled and covered for the privacy of others, such as car types, economical statuses, names, and race. These are aspects that will not pertain to our research and we will take precautions in the case that our founded datasets will have this kind of information.\n",
    "\n",
    "We also foresee any stereotypical driving troupes that may be discriminatory against race and gender. Since our data will be centered around Northern and Southern Californians, we do not believe there will be any bias that may invalidate the data sets that we are working with. Much of the data sets that we are working with aren't directed towards a certain social group of any kind and we are solely utilizing the quantitative data to aid our data science research. Our findings and conclusions will be used to justify the concerns of driving during weather-based conditions, specifically under precipitation in areas where the population is not used to such road conditions."
   ]
  },
  {
   "cell_type": "markdown",
   "metadata": {},
   "source": [
    "# Team Expectations "
   ]
  },
  {
   "cell_type": "markdown",
   "metadata": {},
   "source": [
    "* *Show up during meeting times(when possible)*\n",
    "* *Communicating in a timely manner*\n",
    "* *Active contribution*\n",
    "* *Clear visualizations*"
   ]
  },
  {
   "cell_type": "markdown",
   "metadata": {},
   "source": [
    "# Project Timeline Proposal"
   ]
  },
  {
   "cell_type": "markdown",
   "metadata": {},
   "source": [
    "| Meeting Date  | Meeting Time| Completed Before Meeting  | Discuss at Meeting |\n",
    "|---|---|---|---|\n",
    "| 1/20  |  1 PM | Read & Think about COGS 108 expectations; brainstorm topics/questions  | Determine best form of communication; Discuss and decide on final project topic; discuss hypothesis; begin background research | \n",
    "| 1/26  |  10 AM |  Do background research on topic | Discuss ideal dataset(s) and ethics; draft project proposal | \n",
    "| 2/1  | 10 AM  | Edit, finalize, and submit proposal; Search for datasets  | Discuss Wrangling and possible analytical approaches; Assign group members to lead each specific part   |\n",
    "| 2/14  | 6 PM  | Import & Wrangle Data (Dominic Chua); EDA (Hulk) | Review/Edit wrangling/EDA; Discuss Analysis Plan   |\n",
    "| 2/23  | 12 PM  | Finalize wrangling/EDA; Begin Analysis (Iron Man; Thor) | Discuss/edit Analysis; Complete project check-in |\n",
    "| 3/13  | 12 PM  | Complete analysis; Draft results/conclusion/discussion (Wasp)| Discuss/edit full project |\n",
    "| 3/19  | Before 11:59 PM  | NA | Turn in Final Project & Group Project Surveys |"
   ]
  }
 ],
 "metadata": {
  "kernelspec": {
   "display_name": "Python 3",
   "language": "python",
   "name": "python3"
  },
  "language_info": {
   "codemirror_mode": {
    "name": "ipython",
    "version": 3
   },
   "file_extension": ".py",
   "mimetype": "text/x-python",
   "name": "python",
   "nbconvert_exporter": "python",
   "pygments_lexer": "ipython3",
   "version": "3.7.9"
  }
 },
 "nbformat": 4,
 "nbformat_minor": 2
}
