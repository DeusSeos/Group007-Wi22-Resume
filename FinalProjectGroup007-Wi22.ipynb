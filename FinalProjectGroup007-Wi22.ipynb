{
 "cells": [
  {
   "cell_type": "markdown",
   "metadata": {},
   "source": [
    "# COGS 108 - Final Project (change this to your project's title)"
   ]
  },
  {
   "cell_type": "markdown",
   "metadata": {},
   "source": [
    "## Permissions\n",
    "\n",
    "Place an `X` in the appropriate bracket below to specify if you would like your group's project to be made available to the public. (Note that student names will be included (but PIDs will be scraped from any groups who include their PIDs).\n",
    "\n",
    "* [  ] YES - make available\n",
    "* [  ] NO - keep private"
   ]
  },
  {
   "cell_type": "markdown",
   "metadata": {},
   "source": [
    "# Overview"
   ]
  },
  {
   "cell_type": "markdown",
   "metadata": {},
   "source": [
    "The level of precipitation has been associated with the number of car accidents that occur during the inclement weather events. This is especially so when it occurs in locations that have climates that are generally hot and dry. For our project, we are working to determine and analyze how much precipitation can affect driving and the number of car accidents in dry climate locations. We will analyze our data sets through scatterplots, bar graphs, and line plots to see the correlation between the level of precipitation and the rate of car accidents. In addition to these variables, we will also take into consideration the specific day of the week and the month as our confounding variables. After our complete analysis, we concluded that there is a slight relationship between precipitation and car accidents in specific cities, but this relationship doesn’t reflect all the dry climate cities due to the day of the week and the month."
   ]
  },
  {
   "cell_type": "markdown",
   "metadata": {},
   "source": [
    "# Names\n",
    "\n",
    "- Dominic Chua\n",
    "- Brandon Chen\n",
    "- Anna Morozova\n",
    "- Taha Alam\n",
    "- Yvonne Liu"
   ]
  },
  {
   "cell_type": "markdown",
   "metadata": {},
   "source": [
    "<a id='research_question'></a>\n",
    "# Research Question"
   ]
  },
  {
   "cell_type": "markdown",
   "metadata": {},
   "source": [
    "In the past 10 years is there a correlation to how recent precipitation (3 days prior) modulates the risk for car accidents in the state of California (comparing North and South California)?"
   ]
  },
  {
   "cell_type": "markdown",
   "metadata": {},
   "source": [
    "<a id='background'></a>\n",
    "\n",
    "## Background & Prior Work"
   ]
  },
  {
   "cell_type": "markdown",
   "metadata": {},
   "source": [
    "**Introduction** \n",
    "Driving in inclement weather is generally not ideal and most people would prefer to stay in to avoid it. However, sometimes driving in inclement weather is unavoidable. Poor weather conditions, like rain or precipitation, oftentimes present a complicated driving experience. It’s one of the main reasons why traffic can be so slow when heavy precipitation is present. They provide challenges that aren’t always present when driving under normal weather conditions, such as a normal sunny day. Precipitation can affect the visibility of roads, alter the friction on the pavement, and general vehicle performance. The rain itself can reduce driver perception in many ways. It can directly affect seeing through the rain itself, but also prove to be a challenge trying to perceive the lamps, road markings, or even the road itself. Wet weather creates less traction and can sometimes be difficult to keep the car in control. In locations that have frequent rain weather, people who experience it often may be more familiar with driving in it. They would gain skills to know how to navigate their vehicles in inclement weather. Yet, even the most careful drivers can fall victim to car accidents. In our study, we are attempting to see if the relationship between car accidents and level of precipitation are more apparent in normally dry climate locations. \n",
    "\n",
    "**Background** \n",
    "According to some statistics, on a 10 year average rain has contributed to 556, 151 car accidents alone. It is surprisingly, a significant amount compared to icy pavement or even fog. Therefore, the vast majority of weather-related accidents tend to happen on wet pavement and during rainfall.(1) \n",
    "\n",
    "We’ve all heard of the horror stories when it comes to driving in the snow, but does it really prove to be more dangerous than it is in the rain? When it comes to ice or snow, drivers are generally more cautious as compared to rain. According to the study published by the MDPI, rain is a higher risk of car accident occurrence and severity compared to other inclement weather conditions. Generally, most of the serious crash impacts occur when there is a high level of rainfall or a high intensity of rainfall. (2) However, the study doesn’t take into account human factors such as a human emotion and the time of day at which these accidents can occur. \n",
    "\n",
    "In another article, it states that there is an increase in the risk of car accidents to occur when it’s during the winter season and at morning rush hour. (3) People are more prone to accidents when they’re rushing around and not taking into account that they need to be careful. Everyone wants to rush to work in the morning, but they can’t do that if there’s heavy traffic due to rainy weather. The frustration of knowing that they might be late to work, can cause drivers to act on impulse and ignore road regulations. It factors into the car accidents that can occur and with rain as one of the main risk factors that people don’t pay enough attention to. \n",
    "\n",
    "Another article states that about 73% of car accidents happen on wet pavement, which is most likely due to the aftermath of rain, melted snow, or other external factors. Another 46% of car accidents occur during rainfall. While there is only 17% of car accidents that happen during snow and 13% on icy pavement. This goes to show the vast difference between rainy and snowy weather. It not only proves that people tend to be more cautious during snowy conditions, it also proves that rainy weather conditions are often overlooked. However, this data is only pertaining to the conditions that it rains more often than it does snow. (4) \n"
    "References (include links):\n",
    "- 1) https://ops.fhwa.dot.gov/weather/q1_roadimpact.htm \n",
    "- 2) https://www.mdpi.com/2071-1050/12/19/7976/pdf \n",
    "- 3) https://abcnews.go.com/Technology/rain-increase-risk-car-crashes-light/story?id=62801469 \n",
    "- 4) https://www.washingtonpost.com/news/wonk/wp/2016/01/22/why-rain-is-more-dangerous-than-snow/"
   ]
  },
  {
   "cell_type": "markdown",
   "metadata": {},
   "source": [
    "# Hypothesis\n"
   ]
  },
  {
   "cell_type": "markdown",
   "metadata": {},
   "source": [
    "*Fill in your hypotheses here*"
   ]
  },
  {
   "cell_type": "markdown",
   "metadata": {},
   "source": [
    "# Dataset(s)"
   ]
  },
  {
   "cell_type": "markdown",
   "metadata": {},
   "source": [
    "*Fill in your dataset information here*\n",
    "\n",
    "(Copy this information for each dataset)\n",
    "- Dataset Name:\n",
    "- Link to the dataset:\n",
    "- Number of observations:\n",
    "\n",
    "1-2 sentences describing each dataset. \n",
    "\n",
    "If you plan to use multiple datasets, add 1-2 sentences about how you plan to combine these datasets."
   ]
  },
  {
   "cell_type": "markdown",
   "metadata": {},
   "source": [
    "# Setup"
   ]
  },
  {
   "cell_type": "code",
   "execution_count": 1,
   "metadata": {},
   "outputs": [],
   "source": [
    "## YOUR CODE HERE"
   ]
  },
  {
   "cell_type": "markdown",
   "metadata": {},
   "source": [
    "# Data Cleaning"
   ]
  },
  {
   "cell_type": "markdown",
   "metadata": {},
   "source": [
    "Describe your data cleaning steps here."
   ]
  },
  {
   "cell_type": "code",
   "execution_count": 2,
   "metadata": {},
   "outputs": [],
   "source": [
    "## YOUR CODE HERE\n",
    "## FEEL FREE TO ADD MULTIPLE CELLS PER SECTION"
   ]
  },
  {
   "cell_type": "markdown",
   "metadata": {},
   "source": [
    "# Data Analysis & Results"
   ]
  },
  {
   "cell_type": "markdown",
   "metadata": {},
   "source": [
    "Include cells that describe the steps in your data analysis."
   ]
  },
  {
   "cell_type": "code",
   "execution_count": 3,
   "metadata": {},
   "outputs": [],
   "source": [
    "## YOUR CODE HERE\n",
    "## FEEL FREE TO ADD MULTIPLE CELLS PER SECTION"
   ]
  },
  {
   "cell_type": "markdown",
   "metadata": {},
   "source": [
    "# Ethics & Privacy"
   ]
  },
  {
   "cell_type": "markdown",
   "metadata": {},
   "source": [
    "*Fill in your ethics & privacy discussion here*"
   ]
  },
  {
   "cell_type": "markdown",
   "metadata": {},
   "source": [
    "# Conclusion & Discussion"
   ]
  },
  {
   "cell_type": "markdown",
   "metadata": {},
   "source": [
    "*Fill in your discussion information here*"
   ]
  },
  {
   "cell_type": "markdown",
   "metadata": {},
   "source": [
    "# Team Contributions"
   ]
  },
  {
   "cell_type": "markdown",
   "metadata": {},
   "source": [
    "*Specify who in your group worked on which parts of the project.*"
   ]
  }
 ],
 "metadata": {
  "kernelspec": {
   "display_name": "Python 3",
   "language": "python",
   "name": "python3"
  },
  "language_info": {
   "codemirror_mode": {
    "name": "ipython",
    "version": 3
   },
   "file_extension": ".py",
   "mimetype": "text/x-python",
   "name": "python",
   "nbconvert_exporter": "python",
   "pygments_lexer": "ipython3",
   "version": "3.7.9"
  }
 },
 "nbformat": 4,
 "nbformat_minor": 2
}
