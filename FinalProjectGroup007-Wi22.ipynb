{
 "cells": [
  {
   "cell_type": "markdown",
   "metadata": {},
   "source": [
    "# COGS 108 - Final Project (change this to your project's title)"
   ]
  },
  {
   "cell_type": "markdown",
   "metadata": {},
   "source": [
    "## Permissions\n",
    "\n",
    "Place an `X` in the appropriate bracket below to specify if you would like your group's project to be made available to the public. (Note that student names will be included (but PIDs will be scraped from any groups who include their PIDs).\n",
    "\n",
    "* [  ] YES - make available\n",
    "* [  ] NO - keep private"
   ]
  },
  {
   "cell_type": "markdown",
   "metadata": {},
   "source": [
    "# Overview"
   ]
  },
  {
   "cell_type": "markdown",
   "metadata": {},
   "source": [
    "The level of precipitation has been associated with the number of car accidents that occur during the inclement weather events. This is especially so when it occurs in locations that have climates that are generally hot and dry. For our project, we are working to determine and analyze how much precipitation can affect driving and the number of car accidents in dry climate locations. We will analyze our data sets through scatterplots, bar graphs, and line plots to see the correlation between the level of precipitation and the rate of car accidents. In addition to these variables, we will also take into consideration the specific day of the week and the month as our confounding variables. After our complete analysis, we concluded that there is a slight relationship between precipitation and car accidents in specific cities, but this relationship doesn’t reflect all the dry climate cities due to the day of the week and the month."
   ]
  },
  {
   "cell_type": "markdown",
   "metadata": {},
   "source": [
    "# Names\n",
    "\n",
    "- Dominic Chua\n",
    "- Brandon Chen\n",
    "- Anna Morozova\n",
    "- Taha Alam\n",
    "- Yvonne Liu"
   ]
  },
  {
   "cell_type": "markdown",
   "metadata": {},
   "source": [
    "<a id='research_question'></a>\n",
    "# Research Question"
   ]
  },
  {
   "cell_type": "markdown",
   "metadata": {},
   "source": [
    "In the past 10 years is there a correlation to how recent precipitation (3 days prior) modulates the risk for car accidents in the state of California (comparing North and South California)?"
   ]
  },
  {
   "cell_type": "markdown",
   "metadata": {},
   "source": [
    "<a id='background'></a>\n",
    "\n",
    "## Background & Prior Work"
   ]
  },
  {
   "cell_type": "markdown",
   "metadata": {},
   "source": [
    "**Introduction** \n",
    "\n",
    "Driving in inclement weather is generally not ideal and most people would prefer to avoid it. However, sometimes driving in inclement weather is unavoidable. Poor weather conditions, like precipitation, oftentimes present a complicated driving experience. It’s one of the main reasons why traffic can be so slow when heavy precipitation is present. They provide challenges that aren’t always present when driving under normal weather conditions, such as a sunny day. Road visibility, friction on the pavement, and overall vehicle performance can be affected by precipitation. It can also reduce drivers' perceptions of the road. It directly affects the ability of the driver to see through the rain. The ability to perceive stoplights, road markings, road signs, and even the road itself is also challenging. Wet weather creates less traction and can sometimes be difficult to keep the car in control. Precipitation is frequent in some areas, so people who have experienced it often may be more comfortable driving in it. The skill would enable them to navigate their vehicles in adverse weather conditions. Yet, even the most careful drivers can fall victim to car accidents. In our study, we are attempting to see if the relationship between car accidents and level of precipitation are more apparent in normally dry climate locations. \n",
    "\n",
    "**Background** \n",
    "\n",
    "From the U.S. Department of Transportation, weather variables such as precipitation, fog, ice, and wind speed affect the performance of roadways and drivers. Numerous weather-related accidents have been documented over the last decade.<sup>1</sup> The data collected shows that 21% of these crashes are due to weather conditions. \n",
    "\n",
    "In addition, weather-related accidents have been of growing hazard concern in the past couple of years, partly due to increased climate change. The Weather Channel claims that weather-related accidents are far more deadly than any natural disaster.<sup>2</sup>\n",
    "\n",
    "Prior research has been done for the entirety of the United States, showing that there is a 34% increase in risk of a fatal car accident during active precipitation.<sup>3</sup>\n",
    "\n",
    "According to some researched statistics, on a 10 year average, precipitation has contributed to 556,151 car accidents alone. It is surprisingly, a significant amount compared to other weather variables previously mentioned. As a result, the vast majority of weather-related accidents occur on wet pavement and during periods of heavy precipitation.<sup>4</sup>\n",
    "\n",
    "According to some statistics, on a 10 year average rain has contributed to 556, 151 car accidents alone. It is surprisingly, a significant amount compared to icy pavement or even fog. Therefore, the vast majority of weather-related accidents tend to happen on wet pavement and during rainfall.(1) \n",
    "\n",
    "This brings to question what makes precipitation more dangerous than the other weather variables. Weather variables such as ice or snow tend to make drivers more cautious than precipitation. According to an article published by the MDPI, precipitation is a higher risk of car accident occurrences and severity compared to other inclement weather conditions. Generally, most of the serious crash impacts occur when there is a high intensity of precipitation.<sup>5</sup>\n",
    "\n",
    "According to ABC News, it states that there is an increase in the risk of car accidents to occur specifically during the winter season and at morning rush hour.<sup>6</sup> People are more likely to be involved in an accident when they are rushing around without taking caution into account. If it's raining, everyone wants to get to work quickly, but traffic is heavy, which makes it difficult for them to do so. As a result of their frustration based on their personal situations, such as being late to work, drivers may disregard traffic regulations out of impulse. People don't pay enough attention to precipitation as a factor in car accidents, despite it being one of the main risk factors.\n",
    "\n",
    "Based on a Washington Post, 73% of car accidents happen on wet pavement, which is most likely due to the aftermath of precipitation or melted snow. Another 46% of car accidents occur during precipitation. While there is only 17% of car accidents that happen during snow and 13% on icy pavement. This goes to show the vast difference between the two weather variables of precipitation and snow weather. It not only proves that people tend to be more cautious during snowy conditions, it also proves that precipitation is often overlooked. However, this data is only pertaining to the conditions that it rains more often than it does snow.<sup>7</sup> \n",
    "\n",
    "With this, it leads to our research question. If precipitation is such a high risk factor in car transportations in areas where there is consistent precipitation, we would like to see if there is a similar occurrence in areas that are more experienced with dry climate. We'd like to study the impact that recent precipitation has on car transportation and determine if this is the primary cause of these accidents specifically for California, or from some other confounding variable. \n",
    "\n",
    "References (include links):\n",
    "- 1) [How Do Weather Events Impact Roads?](https://ops.fhwa.dot.gov/weather/q1_roadimpact.htm)\n",
    "- 2) [Weather-Related Vehicle Accidents Far More Deadly Than Tornadoes, Hurricanes, Floods](https://weather.com/safety/winter/news/weather-fatalities-car-crashes-accidents-united-states)\n",
    "- 3) [Precipitation and Fatal Motor Vehicle Crashes: Continental Analysis with High-Resolution Radar Data](https://journals.ametsoc.org/view/journals/bams/100/8/bams-d-18-0001.1.xml) \n",
    "- 4) https://ops.fhwa.dot.gov/weather/q1_roadimpact.htm \n",
    "- 5) https://www.mdpi.com/2071-1050/12/19/7976/pdf \n",
    "- 6) https://abcnews.go.com/Technology/rain-increase-risk-car-crashes-light/story?id=62801469 \n",
    "- 7) https://www.washingtonpost.com/news/wonk/wp/2016/01/22/why-rain-is-more-dangerous-than-snow/"
   ]
  },
  {
   "cell_type": "markdown",
   "metadata": {},
   "source": [
    "# Hypothesis\n"
   ]
  },
  {
   "cell_type": "markdown",
   "metadata": {},
   "source": [
    "We hypothesize that there is a positive correlation between rain in seldomly raining in areas and car related accidents in California. We chose this because California has had a dryer climate due to drought and we wanted to see if there would be an increase in car accidents due to people being unused to driving in a wet environment.\n"
   ]
  },
  {
   "cell_type": "markdown",
   "metadata": {},
   "source": [
    "# Dataset(s)"
   ]
  },
  {
   "cell_type": "markdown",
   "metadata": {},
   "source": [
    "\n",
    "\n",
    "- - -\n",
    "\n",
    "1) [Climate Data Online: Dataset Discovery](https://www.ncdc.noaa.gov/cdo-web/datasets#GHCND)\n",
    "\n",
    "- The National Oceanic and Atmospheric Administration (NOAA) is a United States organization that maintains historical and real time weather data that is publicly available. We intend to collect 10 years worth of precipitaion data from 2011 through 2021 for six different cities, three in the northern half of California and three in the southern half of California. An obversation includes the station id at which the data was recorded, the station's name, followed by the precipitation data. The combined dataset from the 6 different cities has well over 613,00 unqiue observations.\n",
    "\n",
    "- - -\n",
    "\n",
    "1) [Statewide Integrated Traffic Records System](https://iswitrs.chp.ca.gov/Reports/jsp/CollisionReports.jsp)\n",
    "\n",
    "- The Statewide Integrated Traffic Records System (SWITRS) is a database that collects and processes data gathered from a collision scene. The Internet SWITRS application is a tool that leverages this database to allow California Highway Patrol (CHP) staff, members of its Allied Agencies, as well as researchers and members of the public to request various types of statistical reports in an electronic format. The application allows for the creation of custom reports requested by the user based on different categories including, but not limited to locations, dates, and collision types. An observation includes the case id, accident year, proc date, jurisdiction, and multiple other columns with more description on what occured during that accident, most of which is data we are not looking at. The combined dataset from the 6 different cites has well over 306,000 unqiue observations.\n",
    "\n",
    "\n",
    "- - -\n",
    "\n",
    "1) [Precipitation Car Crash Datasets](https://github.com/DeusSeos/Precipitation-Car-Crash-Datasets)\n",
    "\n",
    "- Aggregate car crash and precipitation data for Bakersfield, Palm Springs, Sacramento, San Diego, San Jose, and Stockton. Data is from the time frame 2011 through 2021. The datasets are hosted on a public repository. \n",
    "\n",
    "\n",
    "- - -\n",
    "\n",
    "We will be using pandas to concatentate the precipitation data and car crash data into a 10-year dataframe per city. We will then perform data cleaning in order to create concise visualizations.\n",
    "\n",
    "- - -\n",
    "\n",
    "\n"
   ]
  },
  {
   "cell_type": "markdown",
   "metadata": {},
   "source": [
    "# Setup"
   ]
  },
  {
   "cell_type": "code",
   "execution_count": 1,
   "metadata": {},
   "outputs": [],
   "source": [
    "## YOUR CODE HERE"
   ]
  },
  {
   "cell_type": "markdown",
   "metadata": {},
   "source": [
    "# Data Cleaning"
   ]
  },
  {
   "cell_type": "markdown",
   "metadata": {},
   "source": [
    "Describe your data cleaning steps here."
   ]
  },
  {
   "cell_type": "code",
   "execution_count": 2,
   "metadata": {},
   "outputs": [],
   "source": [
    "## YOUR CODE HERE\n",
    "## FEEL FREE TO ADD MULTIPLE CELLS PER SECTION"
   ]
  },
  {
   "cell_type": "markdown",
   "metadata": {},
   "source": [
    "# Data Analysis & Results"
   ]
  },
  {
   "cell_type": "markdown",
   "metadata": {},
   "source": [
    "Include cells that describe the steps in your data analysis."
   ]
  },
  {
   "cell_type": "code",
   "execution_count": 3,
   "metadata": {},
   "outputs": [],
   "source": [
    "## YOUR CODE HERE\n",
    "## FEEL FREE TO ADD MULTIPLE CELLS PER SECTION"
   ]
  },
  {
   "cell_type": "markdown",
   "metadata": {},
   "source": [
    "# Ethics & Privacy"
   ]
  },
  {
   "cell_type": "markdown",
   "metadata": {},
   "source": [
    "*Fill in your ethics & privacy discussion here*"
   ]
  },
  {
   "cell_type": "markdown",
   "metadata": {},
   "source": [
    "# Conclusion & Discussion"
   ]
  },
  {
   "cell_type": "markdown",
   "metadata": {},
   "source": [
    "*Fill in your discussion information here*"
   ]
  },
  {
   "cell_type": "markdown",
   "metadata": {},
   "source": [
    "# Team Contributions"
   ]
  },
  {
   "cell_type": "markdown",
   "metadata": {},
   "source": [
    "*Specify who in your group worked on which parts of the project.*"
   ]
  }
 ],
 "metadata": {
  "kernelspec": {
   "display_name": "Python 3",
   "language": "python",
   "name": "python3"
  },
  "language_info": {
   "codemirror_mode": {
    "name": "ipython",
    "version": 3
   },
   "file_extension": ".py",
   "mimetype": "text/x-python",
   "name": "python",
   "nbconvert_exporter": "python",
   "pygments_lexer": "ipython3",
   "version": "3.7.9"
  }
 },
 "nbformat": 4,
 "nbformat_minor": 2
}
