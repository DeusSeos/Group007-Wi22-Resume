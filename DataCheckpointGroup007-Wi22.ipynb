{
 "cells": [
  {
   "cell_type": "markdown",
   "metadata": {},
   "source": [
    "# COGS 108 - Data Checkpoint"
   ]
  },
  {
   "cell_type": "markdown",
   "metadata": {},
   "source": [
    "# Names\n",
    "\n",
    "- Dominic Chua\n",
    "- Hulk\n",
    "- Iron Man\n",
    "- Thor\n",
    "- Wasp"
   ]
  },
  {
   "cell_type": "markdown",
   "metadata": {},
   "source": [
    "<a id='research_question'></a>\n",
    "# Research Question"
   ]
  },
  {
   "cell_type": "markdown",
   "metadata": {},
   "source": [
    "*In the past 10 years is there a correlation to how recent precipitation (3 days prior) modulates the risk for car accidents in the state of California (comparing North and South California)?*"
   ]
  },
  {
   "cell_type": "markdown",
   "metadata": {},
   "source": [
    "# Dataset(s)"
   ]
  },
  {
   "cell_type": "markdown",
   "metadata": {},
   "source": [
    "- - -\n",
    "\n",
    "1) [Climate Data Online: Dataset Discovery](https://www.ncdc.noaa.gov/cdo-web/datasets#GHCND)\n",
    "\n",
    "- The National Oceanic and Atmospheric Administration (NOAA) is a United States organization that maintains historical and real time weather data that is publicly available. We intend to collect 10 years worth of precipitaion data from 2011 through 2021 for six different cities, three in the northern half of California and three in the southern half of California. \n",
    "\n",
    "\n",
    "- - -\n",
    "\n",
    "2) [Statewide Integrated Traffic Records System](https://iswitrs.chp.ca.gov/Reports/jsp/CollisionReports.jsp)\n",
    "\n",
    "- The Statewide Integrated Traffic Records System (SWITRS) is a database that collects and processes data gathered from a collision scene. The Internet SWITRS application is a tool that leverages this database to allow California Highway Patrol (CHP) staff, members of its Allied Agencies, as well as researchers and members of the public to request various types of statistical reports in an electronic format. The application allows for the creation of custom reports requested by the user based on different categories including, but not limited to locations, dates, and collision types. \n",
    "\n",
    "\n",
    "- - -\n",
    "\n",
    "3) [Precipitation Car Crash Datasets](https://github.com/DeusSeos/Precipitation-Car-Crash-Datasets)\n",
    "\n",
    "- Aggregate car crash and precipitation data for Bakersfield, Palm Springs, Sacramento, San Diego, San Jose, and Stockton. Data is from the time frame 2011 through 2021. The datasets are hosted on a public repository. \n",
    "\n",
    "\n",
    "- - -\n",
    "\n",
    "We will be using pandas to concatentate the precipitation data and car crash data into a 10-year dataframe per city. We will then perform data cleaning in order to create concise visualizations.\n",
    "\n",
    "- - -\n",
    "\n"
   ]
  },
  {
   "cell_type": "markdown",
   "metadata": {},
   "source": [
    "# Setup"
   ]
  },
  {
   "cell_type": "code",
   "execution_count": 1,
   "metadata": {},
   "outputs": [
    {
     "ename": "ModuleNotFoundError",
     "evalue": "No module named 'numpy'",
     "output_type": "error",
     "traceback": [
      "\u001b[1;31m---------------------------------------------------------------------------\u001b[0m",
      "\u001b[1;31mModuleNotFoundError\u001b[0m                       Traceback (most recent call last)",
      "\u001b[1;32mc:\\Users\\mille\\Documents\\COGS-108\\Group007-Wi22\\DataCheckpointGroup007-Wi22.ipynb Cell 8'\u001b[0m in \u001b[0;36m<module>\u001b[1;34m\u001b[0m\n\u001b[1;32m----> <a href='vscode-notebook-cell:/c%3A/Users/mille/Documents/COGS-108/Group007-Wi22/DataCheckpointGroup007-Wi22.ipynb#ch0000007?line=0'>1</a>\u001b[0m \u001b[39mimport\u001b[39;00m \u001b[39mnumpy\u001b[39;00m \u001b[39mas\u001b[39;00m \u001b[39mnp\u001b[39;00m\n\u001b[0;32m      <a href='vscode-notebook-cell:/c%3A/Users/mille/Documents/COGS-108/Group007-Wi22/DataCheckpointGroup007-Wi22.ipynb#ch0000007?line=1'>2</a>\u001b[0m \u001b[39mimport\u001b[39;00m \u001b[39mpandas\u001b[39;00m \u001b[39mas\u001b[39;00m \u001b[39mpd\u001b[39;00m\n\u001b[0;32m      <a href='vscode-notebook-cell:/c%3A/Users/mille/Documents/COGS-108/Group007-Wi22/DataCheckpointGroup007-Wi22.ipynb#ch0000007?line=2'>3</a>\u001b[0m \u001b[39mimport\u001b[39;00m \u001b[39mmatplotlib\u001b[39;00m\u001b[39m.\u001b[39;00m\u001b[39mpyplot\u001b[39;00m \u001b[39mas\u001b[39;00m \u001b[39mplt\u001b[39;00m\n",
      "\u001b[1;31mModuleNotFoundError\u001b[0m: No module named 'numpy'"
     ]
    }
   ],
   "source": [
    "import numpy as np\n",
    "import pandas as pd\n",
    "import matplotlib.pyplot as plt"
   ]
  },
  {
   "cell_type": "markdown",
   "metadata": {},
   "source": [
    "# Data Cleaning"
   ]
  },
  {
   "cell_type": "markdown",
   "metadata": {},
   "source": [
    "Describe your data cleaning steps here."
   ]
  },
  {
   "cell_type": "code",
   "execution_count": 2,
   "metadata": {},
   "outputs": [],
   "source": [
    "## YOUR CODE HERE\n",
    "## FEEL FREE TO ADD MULTIPLE CELLS PER SECTION"
   ]
  }
 ],
 "metadata": {
  "kernelspec": {
   "display_name": "Python 3",
   "language": "python",
   "name": "python3"
  },
  "language_info": {
   "codemirror_mode": {
    "name": "ipython",
    "version": 3
   },
   "file_extension": ".py",
   "mimetype": "text/x-python",
   "name": "python",
   "nbconvert_exporter": "python",
   "pygments_lexer": "ipython3",
   "version": "3.10.2"
  }
 },
 "nbformat": 4,
 "nbformat_minor": 2
}
