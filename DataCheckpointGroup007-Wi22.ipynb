{
 "cells": [
  {
   "cell_type": "markdown",
   "metadata": {},
   "source": [
    "# COGS 108 - Data Checkpoint"
   ]
  },
  {
   "cell_type": "markdown",
   "metadata": {},
   "source": [
    "# Names\n",
    "\n",
    "- Dominic Chua\n",
    "- Hulk\n",
    "- Iron Man\n",
    "- Thor\n",
    "- Wasp"
   ]
  },
  {
   "cell_type": "markdown",
   "metadata": {},
   "source": [
    "<a id='research_question'></a>\n",
    "# Research Question"
   ]
  },
  {
   "cell_type": "markdown",
   "metadata": {},
   "source": [
    "*In the past 10 years is there a correlation to how recent precipitation (3 days prior) modulates the risk for car accidents in the state of California (comparing North and South California)?*"
   ]
  },
  {
   "cell_type": "markdown",
   "metadata": {},
   "source": [
    "# Dataset(s)"
   ]
  },
  {
   "cell_type": "markdown",
   "metadata": {},
   "source": [
    "- - -\n",
    "\n",
    "1) [Climate Data Online: Dataset Discovery](https://www.ncdc.noaa.gov/cdo-web/datasets#GHCND)\n",
    "\n",
    "- The National Oceanic and Atmospheric Administration (NOAA) is a United States organization that maintains historical and real time weather data that is publicly available. We intend to collect 10 years worth of precipitaion data from 2011 through 2021 for six different cities, three in the northern half of California and three in the southern half of California. \n",
    "\n",
    "\n",
    "- - -\n",
    "\n",
    "2) [Statewide Integrated Traffic Records System](https://iswitrs.chp.ca.gov/Reports/jsp/CollisionReports.jsp)\n",
    "\n",
    "- The Statewide Integrated Traffic Records System (SWITRS) is a database that collects and processes data gathered from a collision scene. The Internet SWITRS application is a tool that leverages this database to allow California Highway Patrol (CHP) staff, members of its Allied Agencies, as well as researchers and members of the public to request various types of statistical reports in an electronic format. The application allows for the creation of custom reports requested by the user based on different categories including, but not limited to locations, dates, and collision types. \n",
    "\n",
    "\n",
    "- - -\n",
    "\n",
    "3) [Precipitation Car Crash Datasets](https://github.com/DeusSeos/Precipitation-Car-Crash-Datasets)\n",
    "\n",
    "- Aggregate car crash and precipitation data for Bakersfield, Palm Springs, Sacramento, San Diego, San Jose, and Stockton. Data is from the time frame 2011 through 2021. The datasets are hosted on a public repository. \n",
    "\n",
    "\n",
    "- - -\n",
    "\n",
    "We will be using pandas to concatentate the precipitation data and car crash data into a 10-year dataframe per city. We will then perform data cleaning in order to create concise visualizations.\n",
    "\n",
    "- - -\n",
    "\n"
   ]
  },
  {
   "cell_type": "markdown",
   "metadata": {},
   "source": [
    "# Setup"
   ]
  },
  {
   "cell_type": "code",
   "execution_count": 2,
   "metadata": {},
   "outputs": [],
   "source": [
    "import numpy as np\n",
    "import pandas as pd\n",
    "import matplotlib.pyplot as plt"
   ]
  },
  {
   "cell_type": "markdown",
   "metadata": {},
   "source": [
    "# Data Cleaning"
   ]
  },
  {
   "cell_type": "markdown",
   "metadata": {},
   "source": [
    "Describe your data cleaning steps here."
   ]
  },
  {
   "cell_type": "code",
   "execution_count": 4,
   "metadata": {},
   "outputs": [
    {
     "name": "stderr",
     "output_type": "stream",
     "text": [
      "C:\\Users\\mille\\AppData\\Local\\Temp\\ipykernel_14988\\102033841.py:9: DtypeWarning: Columns (14) have mixed types. Specify dtype option on import or set low_memory=False.\n",
      "  BF_collision = pd.read_csv(\"https://raw.githubusercontent.com/DeusSeos/Precipitation-Car-Crash-Datasets/main/Bakersfield/2011-2021CollisionRecords.txt\", names=collision_headers)\n"
     ]
    },
    {
     "data": {
      "text/plain": [
       "0        A\n",
       "1        A\n",
       "2        A\n",
       "3        A\n",
       "4        A\n",
       "        ..\n",
       "31966    A\n",
       "31967    C\n",
       "31968    A\n",
       "31969    A\n",
       "31970    A\n",
       "Name: WEATHER_1, Length: 31971, dtype: object"
      ]
     },
     "execution_count": 4,
     "metadata": {},
     "output_type": "execute_result"
    }
   ],
   "source": [
    "collision_headers = [\"CASE_ID\",\"ACCIDENT_YEAR\",\"PROC_DATE\",\"JURIS\",\"COLLISION_DATE\",\"COLLISION_TIME\",\"OFFICER_ID\",\"REPORTING_DISTRICT\",\"DAY_OF_WEEK\",\"CHP_SHIFT\",\"POPULATION\",\"CNTY_CITY_LOC\",\"SPECIAL_COND\",\"BEAT_TYPE\",\"CHP_BEAT_TYPE\",\"CITY_DIVISION_LAPD\",\"CHP_BEAT_CLASS\",\"BEAT_NUMBER\",\"PRIMARY_RD\",\"SECONDARY_RD\",\"DISTANCE\",\"DIRECTION\",\"INTERSECTION\",\"WEATHER_1\",\"WEATHER_2\",\"STATE_HWY_IND\",\"CALTRANS_COUNTY\",\"CALTRANS_DISTRICT\",\"STATE_ROUTE\",\"ROUTE_SUFFIX\",\"POSTMILE_PREFIX\",\"POSTMILE\",\"LOCATION_TYPE\",\"RAMP_INTERSECTION\",\"SIDE_OF_HWY\",\"TOW_AWAY\",\"COLLISION_SEVERITY\",\"NUMBER_KILLED\",\"NUMBER_INJURED\",\"PARTY_COUNT\",\"PRIMARY_COLL_FACTOR\",\"PCF_CODE_OF_VIOL\",\"PCF_VIOL_CATEGORY\",\"PCF_VIOLATION\",\"PCF_VIOL_SUBSECTION\",\"HIT_AND_RUN\",\"TYPE_OF_COLLISION\",\"MVIW\",\"PED_ACTION\",\"ROAD_SURFACE\",\"ROAD_COND_1\",\"ROAD_COND_2\",\"LIGHTING\",\"CONTROL_DEVICE\",\"CHP_ROAD_TYPE\",\"PEDESTRIAN_ACCIDENT\",\"BICYCLE_ACCIDENT\",\"MOTORCYCLE_ACCIDENT\",\"TRUCK_ACCIDENT\",\"NOT_PRIVATE_PROPERTY\",\"ALCOHOL_INVOLVED\",\"STWD_VEHTYPE_AT_FAULT\",\"CHP_VEHTYPE_AT_FAULT\",\"COUNT_SEVERE_INJ\",\"COUNT_VISIBLE_INJ\",\"COUNT_COMPLAINT_PAIN\",\"COUNT_PED_KILLED\",\"COUNT_PED_INJURED\",\"COUNT_BICYCLIST_KILLED\",\"COUNT_BICYCLIST_INJURED\",\"COUNT_MC_KILLED\",\"COUNT_MC_INJURED\",\"PRIMARY_RAMP\",\"SECONDARY_RAMP\"]\n",
    "#import of Bakersfield data \n",
    "BF_2011_weather = pd.read_csv(\"https://raw.githubusercontent.com/DeusSeos/Precipitation-Car-Crash-Datasets/main/Bakersfield/2011-2015-BF.csv\")\n",
    "BF_2016_weather = pd.read_csv(\"https://raw.githubusercontent.com/DeusSeos/Precipitation-Car-Crash-Datasets/main/Bakersfield/2016-2021-BF.csv\")\n",
    "BF_weather = pd.concat([BF_2011_weather, BF_2016_weather])\n",
    "BF_collision = pd.read_csv(\"https://raw.githubusercontent.com/DeusSeos/Precipitation-Car-Crash-Datasets/main/Bakersfield/2011-2021CollisionRecords.txt\", names=collision_headers)\n",
    "\n",
    "PS_2011_weather = pd.read_csv(\"https://raw.githubusercontent.com/DeusSeos/Precipitation-Car-Crash-Datasets/main/Palm-Springs/2011-2015-BF.csv\")\n",
    "PS_2016_weather = pd.read_csv(\"https://raw.githubusercontent.com/DeusSeos/Precipitation-Car-Crash-Datasets/main/Palm-Springs/2016-2021-BF.csv\")\n",
    "PS_weather = pd.concat([PS_2011_weather, PS_2016_weather])\n",
    "PS_collision = pd.read_csv(\"https://raw.githubusercontent.com/DeusSeos/Precipitation-Car-Crash-Datasets/main/Palm-Springs/2011-2021CollisionRecords.txt\", names=collision_headers)\n",
    "\n",
    "SAC_2011_weather = pd.read_csv(\"https://raw.githubusercontent.com/DeusSeos/Precipitation-Car-Crash-Datasets/main/Sacramento/2011-2015-BF.csv\")\n",
    "SAC_2016_weather = pd.read_csv(\"https://raw.githubusercontent.com/DeusSeos/Precipitation-Car-Crash-Datasets/main/Sacramento/2016-2021-BF.csv\")\n",
    "SAC_weather = pd.concat([SAC_2011_weather, SAC_2016_weather])\n",
    "SAC_collision = pd.read_csv(\"https://raw.githubusercontent.com/DeusSeos/Precipitation-Car-Crash-Datasets/main/Sacramento/2011-2021CollisionRecords.txt\", names=collision_headers)\n",
    "\n",
    "SD_2011_weather = pd.read_csv(\"https://raw.githubusercontent.com/DeusSeos/Precipitation-Car-Crash-Datasets/main/San-Diego/2011-2015-BF.csv\")\n",
    "SD_2016_weather = pd.read_csv(\"https://raw.githubusercontent.com/DeusSeos/Precipitation-Car-Crash-Datasets/main/San-Diego/2016-2021-BF.csv\")\n",
    "SD_weather = pd.concat([SD_2011_weather, SD_2016_weather])\n",
    "SD_collision = pd.read_csv(\"https://raw.githubusercontent.com/DeusSeos/Precipitation-Car-Crash-Datasets/main/San-Diego/2011-2021CollisionRecords.txt\", names=collision_headers)\n",
    "\n",
    "SJ_2011_weather = pd.read_csv(\"https://raw.githubusercontent.com/DeusSeos/Precipitation-Car-Crash-Datasets/main/San-Jose/2011-2015-BF.csv\")\n",
    "SJ_2016_weather = pd.read_csv(\"https://raw.githubusercontent.com/DeusSeos/Precipitation-Car-Crash-Datasets/main/San-Jose/2016-2021-BF.csv\")\n",
    "SJ_weather = pd.concat([SJ_2011_weather, SJ_2016_weather])\n",
    "SJ_collision = pd.read_csv(\"https://raw.githubusercontent.com/DeusSeos/Precipitation-Car-Crash-Datasets/main/San-Jose/2011-2021CollisionRecords.txt\", names=collision_headers)\n",
    "\n",
    "ST_2011_weather = pd.read_csv(\"https://raw.githubusercontent.com/DeusSeos/Precipitation-Car-Crash-Datasets/main/Stockton/2011-2015-BF.csv\")\n",
    "ST_2016_weather = pd.read_csv(\"https://raw.githubusercontent.com/DeusSeos/Precipitation-Car-Crash-Datasets/main/Stockton/2016-2021-BF.csv\")\n",
    "ST_weather = pd.concat([ST_2011_weather, ST_2016_weather])\n",
    "ST_collision = pd.read_csv(\"https://raw.githubusercontent.com/DeusSeos/Precipitation-Car-Crash-Datasets/main/Stockton/2011-2021CollisionRecords.txt\", names=collision_headers)\n"
   ]
  },
  {
   "cell_type": "code",
   "execution_count": null,
   "metadata": {},
   "outputs": [],
   "source": []
  }
 ],
 "metadata": {
  "kernelspec": {
   "display_name": "Python 3",
   "language": "python",
   "name": "python3"
  },
  "language_info": {
   "codemirror_mode": {
    "name": "ipython",
    "version": 3
   },
   "file_extension": ".py",
   "mimetype": "text/x-python",
   "name": "python",
   "nbconvert_exporter": "python",
   "pygments_lexer": "ipython3",
   "version": "3.10.2"
  }
 },
 "nbformat": 4,
 "nbformat_minor": 2
}
